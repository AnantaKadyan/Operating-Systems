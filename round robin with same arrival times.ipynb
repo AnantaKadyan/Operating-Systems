{
 "cells": [
  {
   "cell_type": "markdown",
   "metadata": {},
   "source": [
    "ROUND ROBIN ( with Arrival times )"
   ]
  },
  {
   "cell_type": "code",
   "execution_count": null,
   "metadata": {},
   "outputs": [],
   "source": []
  },
  {
   "cell_type": "code",
   "execution_count": 9,
   "metadata": {},
   "outputs": [
    {
     "name": "stdout",
     "output_type": "stream",
     "text": [
      "Enter Total Process Number: \n",
      "3\n",
      "Enter process arrival time and burst time\n",
      "0 5\n",
      "Enter process arrival time and burst time\n",
      "1 3\n",
      "Enter process arrival time and burst time\n",
      "2 1\n"
     ]
    },
    {
     "ename": "KeyboardInterrupt",
     "evalue": "",
     "output_type": "error",
     "traceback": [
      "\u001b[1;31m---------------------------------------------------------------------------\u001b[0m",
      "\u001b[1;31mKeyboardInterrupt\u001b[0m                         Traceback (most recent call last)",
      "\u001b[1;32m<ipython-input-9-36f5ee89806b>\u001b[0m in \u001b[0;36m<module>\u001b[1;34m\u001b[0m\n\u001b[0;32m     22\u001b[0m     \u001b[1;32mwhile\u001b[0m \u001b[0mtotal_time\u001b[0m \u001b[1;33m!=\u001b[0m \u001b[1;36m0\u001b[0m\u001b[1;33m:\u001b[0m\u001b[1;33m\u001b[0m\u001b[1;33m\u001b[0m\u001b[0m\n\u001b[0;32m     23\u001b[0m \u001b[1;33m\u001b[0m\u001b[0m\n\u001b[1;32m---> 24\u001b[1;33m         \u001b[1;32mfor\u001b[0m \u001b[0mi\u001b[0m \u001b[1;32min\u001b[0m \u001b[0mrange\u001b[0m\u001b[1;33m(\u001b[0m\u001b[0mlen\u001b[0m\u001b[1;33m(\u001b[0m\u001b[0mproc\u001b[0m\u001b[1;33m)\u001b[0m\u001b[1;33m)\u001b[0m\u001b[1;33m:\u001b[0m\u001b[1;33m\u001b[0m\u001b[1;33m\u001b[0m\u001b[0m\n\u001b[0m\u001b[0;32m     25\u001b[0m \u001b[1;33m\u001b[0m\u001b[0m\n\u001b[0;32m     26\u001b[0m             \u001b[1;32mif\u001b[0m \u001b[0mproc\u001b[0m\u001b[1;33m[\u001b[0m\u001b[0mi\u001b[0m\u001b[1;33m]\u001b[0m\u001b[1;33m[\u001b[0m\u001b[1;36m2\u001b[0m\u001b[1;33m]\u001b[0m \u001b[1;33m<=\u001b[0m \u001b[0mtime_quantum\u001b[0m \u001b[1;32mand\u001b[0m \u001b[0mproc\u001b[0m\u001b[1;33m[\u001b[0m\u001b[0mi\u001b[0m\u001b[1;33m]\u001b[0m\u001b[1;33m[\u001b[0m\u001b[1;36m2\u001b[0m\u001b[1;33m]\u001b[0m \u001b[1;33m>=\u001b[0m \u001b[1;36m0\u001b[0m\u001b[1;33m:\u001b[0m\u001b[1;33m\u001b[0m\u001b[1;33m\u001b[0m\u001b[0m\n",
      "\u001b[1;31mKeyboardInterrupt\u001b[0m: "
     ]
    }
   ],
   "source": [
    "if __name__ == '__main__':\n",
    "\n",
    "    print(\"Enter Total Process Number: \")\n",
    "    total_p_no = int(input())\n",
    "    total_time = 0 \n",
    "    total_time_counted = 0\n",
    "\n",
    "    proc = []\n",
    "    wait_time = 0\n",
    "    turnaround_time = 0\n",
    "    for _ in range(total_p_no):\n",
    "\n",
    "        print(\"Enter process arrival time and burst time\") \n",
    "        input_info = list(map(int, input().split(\" \")))\n",
    "        arrival, burst, remaining_time = input_info[0], input_info[1], input_info[1]\n",
    "\n",
    "        proc.append([arrival, burst, remaining_time, 0])\n",
    "\n",
    "        total_time += burst\n",
    "   \n",
    "    print(\"Enter time quantum\")\n",
    "    time_quantum = int(input())\n",
    "\n",
    "    while total_time != 0:\n",
    "\n",
    "        for i in range(len(proc)):\n",
    "\n",
    "            if proc[i][2] <= time_quantum and proc[i][2] >= 0:\n",
    "                total_time_counted += proc[i][2]\n",
    "                total_time -= proc[i][2]\n",
    "                proc[i][2] = 0 \n",
    "           \n",
    "            elif proc[i][2] > 0:\n",
    "                proc[i][2] -= time_quantum\n",
    "                total_time -= time_quantum\n",
    "                total_time_counted += time_quantum\n",
    "            if proc[i][2] == 0 and proc[i][3] != 1:\n",
    "                \n",
    "                wait_time += total_time_counted - proc[i][0] - proc[i][1]\n",
    "                turnaround_time += total_time_counted - proc[i][0]\n",
    "\n",
    "                proc[i][3] = 1 \n",
    "    print(\"\\nAvg Waiting Time is \", (wait_time * 1) / total_p_no)\n",
    "    print(\"Avg Turnaround Time is \", (turnaround_time * 1) / total_p_no)"
   ]
  },
  {
   "cell_type": "code",
   "execution_count": null,
   "metadata": {},
   "outputs": [],
   "source": [
    "0 5\n",
    "1 3\n",
    "2 1\n"
   ]
  },
  {
   "cell_type": "code",
   "execution_count": null,
   "metadata": {},
   "outputs": [],
   "source": [
    "if __name__ == '__main__':\n",
    "\n",
    "    print(\"Enter Total Process Number: \")\n",
    "    total_p_no = int(input())\n",
    "    total_time = 0 \n",
    "    total_time_counted = 0\n",
    "\n",
    "    time_quantum = 2    \n",
    "\n",
    "    proc = []\n",
    "    wait_time = 0\n",
    "    turnaround_time = 0\n",
    "    for _ in range(total_p_no):\n",
    "\n",
    "        print(\"Enter process arrival time and burst time\") \n",
    "        input_info = list(map(int, input().split(\" \")))\n",
    "        arrival, burst, remaining_time = input_info[0], input_info[1], input_info[1]\n",
    "        total_time += burst\n",
    "   \n",
    "\n",
    "\n",
    "    while total_time != 0:\n",
    "\n",
    "        for i in range(len(proc)):\n",
    "\n",
    "            if proc[i][2] <= time_quantum and proc[i][2] >= 0:\n",
    "                total_time_counted += proc[i][2]\n",
    "                total_time -= proc[i][2]\n",
    "                proc[i][2] = 0 \n",
    "           \n",
    "            elif proc[i][2] > 0:\n",
    "                proc[i][2] -= time_quantum\n",
    "                total_time -= time_quantum\n",
    "                total_time_counted += time_quantum\n",
    "            if proc[i][2] == 0 and proc[i][3] != 1:\n",
    "                \n",
    "                wait_time += total_time_counted - proc[i][0] - proc[i][1]\n",
    "                turnaround_time += total_time_counted - proc[i][0]\n",
    "\n",
    "                proc[i][3] = 1 \n",
    "    print(\"\\nAvg Waiting Time is \", (wait_time * 1) / total_p_no)\n",
    "    print(\"Avg Turnaround Time is \", (turnaround_time * 1) / total_p_no)\n",
    "    \n"
   ]
  },
  {
   "cell_type": "code",
   "execution_count": null,
   "metadata": {},
   "outputs": [],
   "source": []
  }
 ],
 "metadata": {
  "kernelspec": {
   "display_name": "Python 3",
   "language": "python",
   "name": "python3"
  },
  "language_info": {
   "codemirror_mode": {
    "name": "ipython",
    "version": 3
   },
   "file_extension": ".py",
   "mimetype": "text/x-python",
   "name": "python",
   "nbconvert_exporter": "python",
   "pygments_lexer": "ipython3",
   "version": "3.7.3"
  }
 },
 "nbformat": 4,
 "nbformat_minor": 4
}

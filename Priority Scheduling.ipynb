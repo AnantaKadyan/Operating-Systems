{
 "cells": [
  {
   "cell_type": "markdown",
   "metadata": {},
   "source": [
    "# Priority Scheduling "
   ]
  },
  {
   "cell_type": "code",
   "execution_count": null,
   "metadata": {},
   "outputs": [],
   "source": []
  },
  {
   "cell_type": "code",
   "execution_count": 1,
   "metadata": {},
   "outputs": [],
   "source": [
    "def findWaitingTime(processes, n, wt):  \n",
    "    wt[0] = 0\n",
    " \n",
    "    for i in range(1, n):  \n",
    "        wt[i] = processes[i - 1][1] + wt[i - 1]  \n",
    "  \n",
    "  \n",
    "def findTurnAroundTime(processes, n, wt, tat):  \n",
    "      \n",
    "    for i in range(n): \n",
    "        tat[i] = processes[i][1] + wt[i]  "
   ]
  },
  {
   "cell_type": "code",
   "execution_count": 2,
   "metadata": {},
   "outputs": [],
   "source": [
    "def priorityScheduling(process, n): \n",
    "     \n",
    "    process = sorted(process, reverse = True);  \n",
    "  \n",
    "    print(\"Order in which processes gets executed\") \n",
    "    for i in process: \n",
    "        print(i[0], end = \" \") \n",
    "    findavgTime(process, n)"
   ]
  },
  {
   "cell_type": "code",
   "execution_count": 3,
   "metadata": {},
   "outputs": [],
   "source": [
    "def findavgTime(processes, n):  \n",
    "    wt = [0] * n \n",
    "    tat = [0] * n   \n",
    "    findWaitingTime(processes, n, wt) \n",
    "    findTurnAroundTime(processes, n, wt, tat)  \n",
    "  \n",
    "    # Display processes along with all details  \n",
    "    print(\"\\nProcesses    Burst Time    Priority    Waiting Time    Turn-Around Time\") \n",
    "    total_wt = 0\n",
    "    total_tat = 0\n",
    "    for i in range(n): \n",
    "  \n",
    "        total_wt = total_wt + wt[i]  \n",
    "        total_tat = total_tat + tat[i]  \n",
    "        print(\" \", processes[i][0], \"\\t\\t\",  processes[i][1], \"\\t\\t\", processes[i][2],  \"\\t\\t\",  wt[i], \"\\t\\t\", tat[i]) \n",
    "  \n",
    "    print(\"\\nAverage waiting time = %.3f \"%(total_wt /n)) \n",
    "    print(\"Average turn around time = %.3f\" %(total_tat / n))"
   ]
  },
  {
   "cell_type": "code",
   "execution_count": 4,
   "metadata": {},
   "outputs": [
    {
     "name": "stdout",
     "output_type": "stream",
     "text": [
      "Order in which processes gets executed\n",
      "3 2 1 \n",
      "Processes    Burst Time    Priority    Waiting Time    Turn-Around Time\n",
      "  3 \t\t 15 \t\t 3 \t\t 0 \t\t 15\n",
      "  2 \t\t 5 \t\t 0 \t\t 15 \t\t 20\n",
      "  1 \t\t 10 \t\t 1 \t\t 20 \t\t 30\n",
      "\n",
      "Average waiting time = 11.667 \n",
      "Average turn around time = 21.667\n"
     ]
    }
   ],
   "source": [
    "process = [[1, 10, 1],  [2, 5, 0],  [3, 15, 3]] \n",
    "n = 3\n",
    "priorityScheduling(process, n)"
   ]
  },
  {
   "cell_type": "code",
   "execution_count": null,
   "metadata": {},
   "outputs": [],
   "source": []
  }
 ],
 "metadata": {
  "kernelspec": {
   "display_name": "Python 3",
   "language": "python",
   "name": "python3"
  },
  "language_info": {
   "codemirror_mode": {
    "name": "ipython",
    "version": 3
   },
   "file_extension": ".py",
   "mimetype": "text/x-python",
   "name": "python",
   "nbconvert_exporter": "python",
   "pygments_lexer": "ipython3",
   "version": "3.7.3"
  }
 },
 "nbformat": 4,
 "nbformat_minor": 4
}

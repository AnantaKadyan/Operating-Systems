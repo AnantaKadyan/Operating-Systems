{
 "cells": [
  {
   "cell_type": "markdown",
   "metadata": {},
   "source": [
    "Banker's Algorithm "
   ]
  },
  {
   "cell_type": "code",
   "execution_count": 10,
   "metadata": {},
   "outputs": [],
   "source": [
    "P = 5\n",
    "R = 3\n",
    "\n",
    "processes = [0, 1, 2, 3, 4] \n",
    "avail = [3, 3, 2]    \n",
    "maxm = [[7, 5, 3], [3, 2, 2], [9, 0, 2], [2, 2, 2], [4, 3, 3]] \n",
    "allot = [[0, 1, 0], [2, 0, 0], [3, 0, 2], [2, 1, 1], [0, 0, 2]]"
   ]
  },
  {
   "cell_type": "code",
   "execution_count": 11,
   "metadata": {},
   "outputs": [],
   "source": [
    "# Function to find the need of each process  \n",
    "def calculateNeed(need, maxm, allot): \n",
    "  \n",
    "    # Calculating Need of each P  \n",
    "    for i in range(P): \n",
    "        for j in range(R): \n",
    "            need[i][j] = maxm[i][j] - allot[i][j]  "
   ]
  },
  {
   "cell_type": "code",
   "execution_count": 16,
   "metadata": {},
   "outputs": [],
   "source": [
    "# Function to find the system is in safe state or not \n",
    "def isSafe(processes, avail, maxm, allot): \n",
    "    need = [] \n",
    "    for i in range(P): \n",
    "        l = [] \n",
    "        for j in range(R): \n",
    "            l.append(0) \n",
    "        need.append(l) \n",
    "    calculateNeed(need, maxm, allot)  \n",
    "    finish = [0] * P \n",
    "    safeSeq = [0] * P  \n",
    "    work = [0] * R  \n",
    "    for i in range(R): \n",
    "        work[i] = avail[i]  \n",
    "    count = 0\n",
    "    while (count < P):  \n",
    "        found = False\n",
    "        for p in range(P):  \n",
    "            if (finish[p] == 0):  \n",
    "                for j in range(R): \n",
    "                    if (need[p][j] > work[j]): \n",
    "                        break\n",
    "                      \n",
    "                if (j == R - 1):  \n",
    "                    for k in range(R):  \n",
    "                        work[k] += allot[p][k]  \n",
    "                    safeSeq[count] = p \n",
    "                    count += 1 \n",
    "                    finish[p] = 1\n",
    "                    found = True\n",
    "        \n",
    "        if (found == False): \n",
    "            print(\"System is not in safe state\") \n",
    "            return False\n",
    "    print(\"System is in safe state, \\n Safe sequence is: \", end = \" \") \n",
    "    print(*safeSeq)  \n",
    "    \n",
    "    print(\"Need matrix for each process is : \",need)\n",
    "  \n",
    "    return True\n"
   ]
  },
  {
   "cell_type": "code",
   "execution_count": 17,
   "metadata": {},
   "outputs": [
    {
     "name": "stdout",
     "output_type": "stream",
     "text": [
      "System is in safe state, \n",
      " Safe sequence is:  1 3 4 0 2\n",
      "Need matrix for each process is :  [[7, 4, 3], [1, 2, 2], [6, 0, 0], [0, 1, 1], [4, 3, 1]]\n"
     ]
    },
    {
     "data": {
      "text/plain": [
       "True"
      ]
     },
     "execution_count": 17,
     "metadata": {},
     "output_type": "execute_result"
    }
   ],
   "source": [
    "isSafe(processes, avail, maxm, allot)"
   ]
  },
  {
   "cell_type": "code",
   "execution_count": null,
   "metadata": {},
   "outputs": [],
   "source": []
  }
 ],
 "metadata": {
  "kernelspec": {
   "display_name": "Python 3",
   "language": "python",
   "name": "python3"
  },
  "language_info": {
   "codemirror_mode": {
    "name": "ipython",
    "version": 3
   },
   "file_extension": ".py",
   "mimetype": "text/x-python",
   "name": "python",
   "nbconvert_exporter": "python",
   "pygments_lexer": "ipython3",
   "version": "3.7.3"
  }
 },
 "nbformat": 4,
 "nbformat_minor": 4
}

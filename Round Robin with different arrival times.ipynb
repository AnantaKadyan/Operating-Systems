{
 "cells": [
  {
   "cell_type": "markdown",
   "metadata": {},
   "source": [
    "# Round Robin Scheduling"
   ]
  },
  {
   "cell_type": "code",
   "execution_count": 1,
   "metadata": {},
   "outputs": [],
   "source": [
    "process = [1, 2, 3] \n",
    "n = 3\n",
    "burst_time = [10, 5, 8]    \n",
    "quantum = 2; "
   ]
  },
  {
   "cell_type": "code",
   "execution_count": 4,
   "metadata": {},
   "outputs": [],
   "source": [
    "def findTurnAroundTime(process, n, bt, wt, tat):  \n",
    "    for i in range(n): \n",
    "        tat[i] = bt[i] + wt[i] "
   ]
  },
  {
   "cell_type": "code",
   "execution_count": 5,
   "metadata": {},
   "outputs": [],
   "source": [
    "def findWaitingTime(process, n, bt, wt, quantum):  \n",
    "    rem_bt = [0] * n  \n",
    "    for i in range(n):  \n",
    "        rem_bt[i] = bt[i] \n",
    "    t = 0 \n",
    "    \n",
    "    while(1): \n",
    "        done = True \n",
    "        for i in range(n):   \n",
    "            if (rem_bt[i] > 0) : \n",
    "                done = False \n",
    "                  \n",
    "                if (rem_bt[i] > quantum) :   \n",
    "                    t += quantum  \n",
    "                    rem_bt[i] -= quantum   \n",
    "                else:  \n",
    "                    t = t + rem_bt[i] \n",
    "                    wt[i] = t - bt[i]  \n",
    "                    rem_bt[i] = 0\n",
    "           \n",
    "        if (done == True): \n",
    "            break"
   ]
  },
  {
   "cell_type": "code",
   "execution_count": 8,
   "metadata": {},
   "outputs": [],
   "source": [
    "def findavgTime(process, n, bt, quantum):  \n",
    "    wt = [0] * n \n",
    "    tat = [0] * n  \n",
    " \n",
    "    findWaitingTime(process, n, bt,wt, quantum)   \n",
    "    findTurnAroundTime(process, n, bt,wt, tat)  \n",
    "  \n",
    "    print(\"Processes    Burst Time     Waiting Time    Turn-Around Time\") \n",
    "    total_wt = 0\n",
    "    total_tat = 0\n",
    "    for i in range(n): \n",
    "        total_wt = total_wt + wt[i]  \n",
    "        total_tat = total_tat + tat[i]  \n",
    "        print(\" \", i + 1, \"\\t\\t\", bt[i],\"\\t\\t\", wt[i], \"\\t\\t\", tat[i]) \n",
    "  \n",
    "    print(\"\\nAverage waiting time = %.3f \"%(total_wt /n) ) \n",
    "    print(\"Average turn around time = %.3f \"% (total_tat / n))"
   ]
  },
  {
   "cell_type": "code",
   "execution_count": 9,
   "metadata": {},
   "outputs": [
    {
     "name": "stdout",
     "output_type": "stream",
     "text": [
      "Processes    Burst Time     Waiting Time    Turn-Around Time\n",
      "  1 \t\t 10 \t\t 13 \t\t 23\n",
      "  2 \t\t 5 \t\t 10 \t\t 15\n",
      "  3 \t\t 8 \t\t 13 \t\t 21\n",
      "\n",
      "Average waiting time = 12.000 \n",
      "Average turn around time = 19.667 \n"
     ]
    }
   ],
   "source": [
    "findavgTime(proc, n, burst_time, quantum)"
   ]
  },
  {
   "cell_type": "code",
   "execution_count": null,
   "metadata": {},
   "outputs": [],
   "source": []
  }
 ],
 "metadata": {
  "kernelspec": {
   "display_name": "Python 3",
   "language": "python",
   "name": "python3"
  },
  "language_info": {
   "codemirror_mode": {
    "name": "ipython",
    "version": 3
   },
   "file_extension": ".py",
   "mimetype": "text/x-python",
   "name": "python",
   "nbconvert_exporter": "python",
   "pygments_lexer": "ipython3",
   "version": "3.7.3"
  }
 },
 "nbformat": 4,
 "nbformat_minor": 4
}

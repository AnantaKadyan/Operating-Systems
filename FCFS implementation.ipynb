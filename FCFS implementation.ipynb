{
 "cells": [
  {
   "cell_type": "markdown",
   "metadata": {},
   "source": [
    "# First Come First Serve "
   ]
  },
  {
   "cell_type": "markdown",
   "metadata": {},
   "source": [
    "1. ARRIVAL TIME NOT TAKEN"
   ]
  },
  {
   "cell_type": "code",
   "execution_count": 7,
   "metadata": {},
   "outputs": [
    {
     "name": "stdout",
     "output_type": "stream",
     "text": [
      "Waiting times are: \n",
      "0\n",
      "24\n",
      "27\n",
      "Turn Around times are: \n",
      "24\n",
      "27\n",
      "30\n",
      "Average waiting time is :17.0\n",
      "Average TurnAround time is :27.0\n"
     ]
    }
   ],
   "source": [
    "\n",
    "def waitingtime(processes, n, bt, wt):\n",
    "    wt[0] = 0\n",
    "    for i in range (1,n):\n",
    "        wt[i] = bt[i-1] + wt[i-1]\n",
    "        \n",
    "\n",
    "def turnaroundtime(processes, n, bt, wt, tat):\n",
    "    for i in range(n):\n",
    "        tat[i] = bt[i] + wt[i]\n",
    "        \n",
    "def display(processes, n, bt):\n",
    "    totalwt = 0\n",
    "    totaltat = 0\n",
    "    wt = [0] * n \n",
    "    tat = [0] * n \n",
    "    \n",
    "    print(\"Waiting times are: \")\n",
    "    waitingtime(processes, n, bt, wt)\n",
    "    for i in range(n):\n",
    "        print(wt[i])\n",
    "        totalwt = totalwt + wt[i] \n",
    "        \n",
    "    \n",
    "    print(\"Turn Around times are: \")\n",
    "    turnaroundtime(processes, n, bt, wt, tat)    \n",
    "    for i in range(n):\n",
    "        print(tat[i])\n",
    "        totaltat = totaltat + tat[i]\n",
    "        \n",
    "    print(\"Average waiting time is :\" + str(totalwt/n))\n",
    "    print(\"Average TurnAround time is :\" + str(totaltat/n))\n",
    "    \n",
    "if __name__ == \"__main__\":\n",
    "    processes = [1,2,3]\n",
    "    n = len(processes)\n",
    "    bt = [24, 3, 3]\n",
    "    display(processes, n, bt)"
   ]
  },
  {
   "cell_type": "markdown",
   "metadata": {},
   "source": [
    "2. ARRIVAL TIME GIVEN"
   ]
  },
  {
   "cell_type": "code",
   "execution_count": 5,
   "metadata": {},
   "outputs": [
    {
     "name": "stdout",
     "output_type": "stream",
     "text": [
      "Processes   Burst Time   Arrival Time     Waiting Time   Turn-Around Time  Completion Time \n",
      "\n",
      "  1 \t\t 5 \t\t 0 \t\t 0 \t\t  5 \t\t  5\n",
      "  2 \t\t 9 \t\t 3 \t\t 2 \t\t  11 \t\t  14\n",
      "  3 \t\t 6 \t\t 6 \t\t 8 \t\t  14 \t\t  20\n",
      "Average waiting time = 3.33333 \n",
      "\n",
      "Average turn around time =  10.0\n"
     ]
    }
   ],
   "source": [
    "def findWaitingTime(processes, n, bt, wt, at):  \n",
    "    service_time = [0] * n  \n",
    "    service_time[0] = 0\n",
    "    wt[0] = 0\n",
    "  \n",
    "    # calculating waiting time  \n",
    "    for i in range(1, n):  \n",
    "          \n",
    "        # Add burst time of previous processes  \n",
    "        service_time[i] = (service_time[i - 1] +\n",
    "                                     bt[i - 1])  \n",
    "  \n",
    "        # Find waiting time for current \n",
    "        # process = sum - at[i]  \n",
    "        wt[i] = service_time[i] - at[i]  \n",
    "  \n",
    "        # If waiting time for a process is in  \n",
    "        # negative that means it is already  \n",
    "        # in the ready queue before CPU becomes  \n",
    "        # idle so its waiting time is 0  \n",
    "        if (wt[i] < 0): \n",
    "            wt[i] = 0\n",
    "      \n",
    "\n",
    "def findTurnAroundTime(processes, n, bt, wt, tat):  \n",
    "      \n",
    "    # Calculating turnaround time by \n",
    "    # adding bt[i] + wt[i]  \n",
    "    for i in range(n): \n",
    "        tat[i] = bt[i] + wt[i]  \n",
    "  \n",
    "  \n",
    "# Function to calculate average waiting  \n",
    "# and turn-around times.  \n",
    "def findavgTime(processes, n, bt, at):  \n",
    "    wt = [0] * n \n",
    "    tat = [0] * n  \n",
    "  \n",
    "    # Function to find waiting time \n",
    "    # of all processes  \n",
    "    findWaitingTime(processes, n, bt, wt, at)  \n",
    "  \n",
    "    # Function to find turn around time for \n",
    "    # all processes  \n",
    "    findTurnAroundTime(processes, n, bt, wt, tat)  \n",
    "  \n",
    "    # Display processes along with all details  \n",
    "    print(\"Processes   Burst Time   Arrival Time     Waiting\",  \n",
    "          \"Time   Turn-Around Time  Completion Time \\n\") \n",
    "    total_wt = 0\n",
    "    total_tat = 0\n",
    "    for i in range(n): \n",
    "  \n",
    "        total_wt = total_wt + wt[i]  \n",
    "        total_tat = total_tat + tat[i]  \n",
    "        compl_time = tat[i] + at[i]  \n",
    "        print(\" \", i + 1, \"\\t\\t\", bt[i], \"\\t\\t\", at[i],  \n",
    "              \"\\t\\t\", wt[i], \"\\t\\t \", tat[i], \"\\t\\t \", compl_time)  \n",
    "  \n",
    "    print(\"Average waiting time = %.5f \"%(total_wt /n)) \n",
    "    print(\"\\nAverage turn around time = \", total_tat / n)  \n",
    "  \n",
    " \n",
    "if __name__ ==\"__main__\": \n",
    "      \n",
    "    # Process id's  \n",
    "    processes = [1, 2, 3] \n",
    "    n = 3\n",
    "  \n",
    "    # Burst time of all processes  \n",
    "    burst_time = [5, 9, 6]  \n",
    "  \n",
    "    # Arrival time of all processes  \n",
    "    arrival_time = [0, 3, 6]  \n",
    "  \n",
    "    findavgTime(processes, n, burst_time, \n",
    "                            arrival_time) \n"
   ]
  },
  {
   "cell_type": "code",
   "execution_count": null,
   "metadata": {},
   "outputs": [],
   "source": []
  }
 ],
 "metadata": {
  "kernelspec": {
   "display_name": "Python 3",
   "language": "python",
   "name": "python3"
  },
  "language_info": {
   "codemirror_mode": {
    "name": "ipython",
    "version": 3
   },
   "file_extension": ".py",
   "mimetype": "text/x-python",
   "name": "python",
   "nbconvert_exporter": "python",
   "pygments_lexer": "ipython3",
   "version": "3.7.3"
  }
 },
 "nbformat": 4,
 "nbformat_minor": 4
}

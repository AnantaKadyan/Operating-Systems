{
 "cells": [
  {
   "cell_type": "markdown",
   "metadata": {},
   "source": [
    "# Shortest Remaining Job First"
   ]
  },
  {
   "cell_type": "code",
   "execution_count": 2,
   "metadata": {},
   "outputs": [
    {
     "name": "stdout",
     "output_type": "stream",
     "text": [
      "Processes    Burst Time     Arrival Times   Waiting Time     Turn-Around Time\n",
      "  1 \t\t 5 \t\t 0 \t\t 0 \t\t 5\n",
      "  2 \t\t 4 \t\t 1 \t\t 6 \t\t 10\n",
      "  3 \t\t 7 \t\t 2 \t\t 9 \t\t 16\n",
      "  4 \t\t 2 \t\t 3 \t\t 2 \t\t 4\n",
      "\n",
      "Average waiting time = 4.25 \n",
      "Average turn around time =  8.75\n"
     ]
    }
   ],
   "source": [
    "def findWaitingTime(processes, n, wt):  \n",
    "    rt = [0] * n \n",
    "  \n",
    "    # burst time is the rt (remaining time)\n",
    "    for i in range(n):  \n",
    "        rt[i] = processes[i][1] \n",
    "    complete = 0\n",
    "    t = 0\n",
    "    minm = 999999999\n",
    "    short = 0\n",
    "    check = False\n",
    "  \n",
    "      \n",
    "    while (complete != n): \n",
    "          \n",
    "         \n",
    "        for j in range(n): \n",
    "            if ((processes[j][2] <= t) and \n",
    "                (rt[j] < minm) and rt[j] > 0): \n",
    "                minm = rt[j] \n",
    "                short = j \n",
    "                check = True\n",
    "        if (check == False): \n",
    "            t += 1\n",
    "            continue\n",
    "              \n",
    "          \n",
    "        rt[short] -= 1\n",
    "  \n",
    "        \n",
    "        minm = rt[short]  \n",
    "        if (minm == 0):  \n",
    "            minm = 999999999\n",
    "  \n",
    "          \n",
    "        if (rt[short] == 0):     \n",
    "            complete += 1\n",
    "            check = False  \n",
    "            fint = t + 1          \n",
    "            wt[short] = (fint - proc[short][1] - proc[short][2]) \n",
    "  \n",
    "            if (wt[short] < 0): \n",
    "                wt[short] = 0\n",
    "          \n",
    "          \n",
    "        t += 1\n",
    "  \n",
    " # Function to calculate turn around time  \n",
    "def findTurnAroundTime(processes, n, wt, tat):  \n",
    "        \n",
    "    for i in range(n): \n",
    "        tat[i] = processes[i][1] + wt[i]  \n",
    "  \n",
    " # Function to calculate average waiting  \n",
    "# and turn-around times.  \n",
    "def findavgTime(processes, n):  \n",
    "    wt = [0] * n \n",
    "    tat = [0] * n  \n",
    "   \n",
    "    findWaitingTime(processes, n, wt)    \n",
    "    findTurnAroundTime(processes, n, wt, tat)  \n",
    "  \n",
    "    # Display processes along with all details  \n",
    "    print(\"Processes    Burst Time     Arrival Times   Waiting Time     Turn-Around Time\") \n",
    "    total_wt = 0\n",
    "    total_tat = 0\n",
    "    for i in range(n): \n",
    "  \n",
    "        total_wt = total_wt + wt[i]  \n",
    "        total_tat = total_tat + tat[i]  \n",
    "        print(\" \", processes[i][0], \"\\t\\t\",  \n",
    "                   processes[i][1], \"\\t\\t\",\n",
    "                   processes[i][2], \"\\t\\t\",\n",
    "                   wt[i], \"\\t\\t\", tat[i]) \n",
    "  \n",
    "    print(\"\\nAverage waiting time = %.2f \"%(total_wt /n) ) \n",
    "    print(\"Average turn around time = \", total_tat / n)  \n",
    "      \n",
    "  \n",
    "if __name__ ==\"__main__\": \n",
    "      \n",
    "     \n",
    "    proc = [[1, 5, 0], [2, 4, 1], [3, 7, 2], [4, 2, 3]] \n",
    "    n = 4\n",
    "    findavgTime(proc, n) \n",
    "    "
   ]
  },
  {
   "cell_type": "code",
   "execution_count": null,
   "metadata": {},
   "outputs": [],
   "source": []
  }
 ],
 "metadata": {
  "kernelspec": {
   "display_name": "Python 3",
   "language": "python",
   "name": "python3"
  },
  "language_info": {
   "codemirror_mode": {
    "name": "ipython",
    "version": 3
   },
   "file_extension": ".py",
   "mimetype": "text/x-python",
   "name": "python",
   "nbconvert_exporter": "python",
   "pygments_lexer": "ipython3",
   "version": "3.7.3"
  }
 },
 "nbformat": 4,
 "nbformat_minor": 4
}
